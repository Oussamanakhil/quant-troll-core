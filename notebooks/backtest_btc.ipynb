{
 "cells": [
  {
   "cell_type": "markdown",
   "metadata": {},
   "source": [
    "# 📈 Backtest Notebook: RSI Reversal Strategy\n",
    "\n",
    "This notebook loads BTC OHLCV data, applies the RSI reversal strategy, and visualizes backtest results."
   ]
  },
  {
   "cell_type": "code",
   "execution_count": null,
   "metadata": {},
   "outputs": [],
   "source": [
    "# ✅ Setup\n",
    "import pandas as pd\n",
    "import matplotlib.pyplot as plt\n",
    "from strategies.rsi_reversal import rsi_reversal_strategy\n",
    "from core.paper_trader import paper_trade"
   ]
  },
  {
   "cell_type": "code",
   "execution_count": null,
   "metadata": {},
   "outputs": [],
   "source": [
    "# 📥 Load BTC data\n",
    "df = pd.read_csv(\"../data/btc_ohlcv.csv\", index_col=0, parse_dates=True)\n",
    "df.head()"
   ]
  },
  {
   "cell_type": "code",
   "execution_count": null,
   "metadata": {},
   "outputs": [],
   "source": [
    "# 📊 Run RSI Reversal Strategy\n",
    "signals = rsi_reversal_strategy(df, rsi_period=14, lower_thresh=30, upper_thresh=70)\n",
    "signals.tail()"
   ]
  },
  {
   "cell_type": "code",
   "execution_count": null,
   "metadata": {},
   "outputs": [],
   "source": [
    "# 🧪 Paper Trade & PnL\n",
    "results = paper_trade(signals)\n",
    "results[['position', 'pnl']].tail()"
   ]
  },
  {
   "cell_type": "code",
   "execution_count": null,
   "metadata": {},
   "outputs": [],
   "source": [
    "# 📈 Equity Curve\n",
    "results['equity'] = results['pnl'].cumsum()\n",
    "results['equity'].plot(title='Equity Curve', figsize=(12, 4));"
   ]
  }
 ],
 "metadata": {
  "kernelspec": {
   "display_name": "Python 3",
   "language": "python",
   "name": "python3"
  },
  "language_info": {
   "name": "python",
   "version": "3.x"
  }
 },
 "nbformat": 4,
 "nbformat_minor": 2
}
